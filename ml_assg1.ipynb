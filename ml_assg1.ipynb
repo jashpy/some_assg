{
 "cells": [
  {
   "cell_type": "markdown",
   "id": "3d1a08f4-77b0-4fbe-bfe2-718c6d21b351",
   "metadata": {},
   "source": [
    "**problem-1**"
   ]
  },
  {
   "cell_type": "markdown",
   "id": "ec866c7d-a2cf-4a22-a20c-583ab52161a7",
   "metadata": {},
   "source": [
    "**AI is basically the study which enables the machines to mimic human behaviour.it uses ml and dl as its components\n",
    "ex:ai powered predictions\n",
    "ml is the study or process that take statistical behaviour into account\n",
    "ex-different mathematical algorithms are used to solve regression and classification problem.\n",
    "deep learning is the process that uses neural networks just like functioning of human brain\n",
    "ex-animal prediction,disease prediction**"
   ]
  },
  {
   "cell_type": "markdown",
   "id": "0bbf4897-37be-4b29-9db0-f8ad08330d8b",
   "metadata": {},
   "source": [
    "problem-2"
   ]
  },
  {
   "cell_type": "markdown",
   "id": "3748c56c-b0ca-43e4-b87f-7820cc00a130",
   "metadata": {},
   "source": [
    "supervised learning is the type of ml algorithm in which both inputs and outputs are there.\n",
    "examples of the some of the algorithms are:\n",
    "linear regression\n",
    "logistic regression\n",
    "naive bayes"
   ]
  },
  {
   "cell_type": "markdown",
   "id": "aa335bab-18f6-415c-b097-bb532bb6b9c7",
   "metadata": {},
   "source": [
    "problem-3"
   ]
  },
  {
   "cell_type": "markdown",
   "id": "7a4c5134-1de8-4997-8a21-38eb47e0fcd2",
   "metadata": {},
   "source": [
    "unsupervised learning contains only inputs.examples of some of the algorithms are:\n",
    "k means clustering\n",
    "knn classification"
   ]
  },
  {
   "cell_type": "markdown",
   "id": "e5ba1e17-9faf-4e02-a40f-a026fc5fae80",
   "metadata": {},
   "source": [
    "problem-4"
   ]
  },
  {
   "cell_type": "markdown",
   "id": "c8d13026-f2bd-4a93-8bfc-ce78d5bc14d5",
   "metadata": {},
   "source": [
    "AI is basically the study which enables the machines to mimic human behaviour.it uses ml and dl as its components ex:ai powered predictions ml is the study or process that take statistical behaviour into account ex-different mathematical algorithms are used to solve regression and classification problem. deep learning is the process that uses neural networks just like functioning of human brain ex-animal prediction,disease prediction\n",
    "data science covers almost every domain"
   ]
  },
  {
   "cell_type": "markdown",
   "id": "7a2b0308-f764-4b79-89bc-48e61462c9f0",
   "metadata": {},
   "source": [
    "problem-5"
   ]
  },
  {
   "cell_type": "markdown",
   "id": "95beb33c-4fef-4979-b6a9-be833a61513e",
   "metadata": {},
   "source": [
    "supervised learning is the type of ml algorithm in which both inputs and outputs are there.\n",
    "examples of the some of the algorithms are:\n",
    "linear regression\n",
    "logistic regression\n",
    "naive bayes\n",
    "\n",
    "\n",
    "\n",
    "unsupervised learning contains only inputs.examples of some of the algorithms are:\n",
    "k means clustering\n",
    "knn classification\n",
    "\n",
    "semi_supervised model:\n",
    " It is a method that uses a small amount of labeled data and a large amount of unlabeled data to train a model"
   ]
  },
  {
   "cell_type": "markdown",
   "id": "ed02856b-4b9e-4aa5-83e8-71a04050af19",
   "metadata": {},
   "source": [
    "problem-6"
   ]
  },
  {
   "cell_type": "markdown",
   "id": "c04a51d6-b1a8-453c-89e9-db790ac4a437",
   "metadata": {},
   "source": [
    "suppose we have a large number of datasets,so in order to get the better estimation what we do is that we train some data with a particular \n",
    "algorithm and then check the test datasets for accuracy then we put our required data for prediction also known as validation data"
   ]
  },
  {
   "cell_type": "markdown",
   "id": "79f3f354-9c62-4c35-b92d-c61d8257b0c2",
   "metadata": {},
   "source": [
    "problem-7"
   ]
  },
  {
   "cell_type": "markdown",
   "id": "55e8c939-15fc-4e0b-a7e4-87c69d746b89",
   "metadata": {},
   "source": [
    "we can use pca for unsupervised anomaly detection"
   ]
  },
  {
   "cell_type": "markdown",
   "id": "14c27941-5883-4fbe-b16c-e6f9d78e1a88",
   "metadata": {},
   "source": [
    "problem-8"
   ]
  },
  {
   "cell_type": "markdown",
   "id": "725523e5-eae3-41ce-af20-d289104414c7",
   "metadata": {},
   "source": [
    "supervised algorithm:\n",
    "1)linear regression\n",
    "\n",
    "2)logistic regression\n",
    "\n",
    "3)decision tress\n",
    "\n",
    "4)naive bayes \n",
    "\n",
    "5)random forest\n",
    "\n",
    "6)svm\n",
    "\n",
    "unsupervised:\n",
    "\n",
    "1)knn classification\n",
    "\n",
    "2)k means clustering\n",
    "\n",
    "3)principal component analysis"
   ]
  },
  {
   "cell_type": "code",
   "execution_count": null,
   "id": "404a4adf-003b-4c07-bbe0-0a7c5302cb6d",
   "metadata": {},
   "outputs": [],
   "source": []
  }
 ],
 "metadata": {
  "kernelspec": {
   "display_name": "Python 3 (ipykernel)",
   "language": "python",
   "name": "python3"
  },
  "language_info": {
   "codemirror_mode": {
    "name": "ipython",
    "version": 3
   },
   "file_extension": ".py",
   "mimetype": "text/x-python",
   "name": "python",
   "nbconvert_exporter": "python",
   "pygments_lexer": "ipython3",
   "version": "3.10.8"
  }
 },
 "nbformat": 4,
 "nbformat_minor": 5
}
