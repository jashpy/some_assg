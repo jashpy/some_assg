{
 "cells": [
  {
   "cell_type": "markdown",
   "id": "d9533158-64e7-4996-b9fb-ad113d3b10b9",
   "metadata": {},
   "source": [
    "Q1. What are the three measures of central tendency?"
   ]
  },
  {
   "cell_type": "markdown",
   "id": "ff014695-a8a3-4072-bbb5-3a95757a5e3f",
   "metadata": {},
   "source": [
    "The three measures of central tendency are mean,median and mode.\n",
    "\n",
    "1)mean:The mean, often referred to as the average, is calculated by summing up all the values in a data set and then dividing by the number of values.\n",
    "\n",
    "2)median:: The median is the middle value in a data set when it's arranged in ascending or descending order.\n",
    "\n",
    "3)mode:The mode is the value that appears most frequently in a data set."
   ]
  },
  {
   "cell_type": "markdown",
   "id": "302718bd-d63d-4a59-bf81-ca783ae64eda",
   "metadata": {},
   "source": [
    "Q2. What is the difference between the mean, median, and mode? How are they used to measure the \n",
    "central tendency of a dataset?"
   ]
  },
  {
   "cell_type": "markdown",
   "id": "cfeb80ea-11e2-449f-82eb-008ef9e16f84",
   "metadata": {},
   "source": [
    "1)mean:The mean, often referred to as the average, is calculated by summing up all the values in a data set and then dividing by the number of values.\n",
    "\n",
    "2)median:: The median is the middle value in a data set when it's arranged in ascending or descending order.\n",
    "\n",
    "3)mode:The mode is the value that appears most frequently in a data set"
   ]
  },
  {
   "cell_type": "markdown",
   "id": "775c6f66-5685-4356-9867-bcdd2ff25975",
   "metadata": {},
   "source": [
    "These measures can help provide a better understanding of the central tendencies of a dataset by desribing how data points are distributed around the center."
   ]
  },
  {
   "cell_type": "markdown",
   "id": "83bf5d96-882c-4e67-be3b-0a9113db4168",
   "metadata": {},
   "source": [
    "Q3. Measure the three measures of central tendency for the given height data:\n",
    "\n",
    " [178,177,176,177,178.2,178,175,179,180,175,178.9,176.2,177,172.5,178,176.5]"
   ]
  },
  {
   "cell_type": "code",
   "execution_count": 1,
   "id": "477cb1b6-08c5-4920-a039-9dd5ffd536db",
   "metadata": {},
   "outputs": [
    {
     "data": {
      "text/plain": [
       "177.01875"
      ]
     },
     "execution_count": 1,
     "metadata": {},
     "output_type": "execute_result"
    }
   ],
   "source": [
    "import numpy as np\n",
    "l=[178,177,176,177,178.2,178,175,179,180,175,178.9,176.2,177,172.5,178,176.5]\n",
    "\n",
    "np.mean(l)"
   ]
  },
  {
   "cell_type": "code",
   "execution_count": 2,
   "id": "4cd050e0-7fd8-479b-a834-3ada2b088c78",
   "metadata": {},
   "outputs": [
    {
     "data": {
      "text/plain": [
       "177.0"
      ]
     },
     "execution_count": 2,
     "metadata": {},
     "output_type": "execute_result"
    }
   ],
   "source": [
    "np.median(l)"
   ]
  },
  {
   "cell_type": "code",
   "execution_count": 3,
   "id": "98c82740-2d42-4c83-9c08-e333da15f136",
   "metadata": {},
   "outputs": [
    {
     "name": "stderr",
     "output_type": "stream",
     "text": [
      "/tmp/ipykernel_77/3491401086.py:2: FutureWarning: Unlike other reduction functions (e.g. `skew`, `kurtosis`), the default behavior of `mode` typically preserves the axis it acts along. In SciPy 1.11.0, this behavior will change: the default value of `keepdims` will become False, the `axis` over which the statistic is taken will be eliminated, and the value None will no longer be accepted. Set `keepdims` to True or False to avoid this warning.\n",
      "  stats.mode(l)\n"
     ]
    },
    {
     "data": {
      "text/plain": [
       "ModeResult(mode=array([177.]), count=array([3]))"
      ]
     },
     "execution_count": 3,
     "metadata": {},
     "output_type": "execute_result"
    }
   ],
   "source": [
    "from scipy import stats\n",
    "stats.mode(l)"
   ]
  },
  {
   "cell_type": "markdown",
   "id": "56d123b6-f814-4993-8221-ea3e0cd4471e",
   "metadata": {},
   "source": [
    "Q4. Find the standard deviation for the given data:\n",
    "\n",
    "[178,177,176,177,178.2,178,175,179,180,175,178.9,176.2,177,172.5,178,176.5]"
   ]
  },
  {
   "cell_type": "code",
   "execution_count": 4,
   "id": "6e47544f-a4fd-49cc-ba28-be05dc7db4a3",
   "metadata": {},
   "outputs": [
    {
     "data": {
      "text/plain": [
       "1.7885814036548633"
      ]
     },
     "execution_count": 4,
     "metadata": {},
     "output_type": "execute_result"
    }
   ],
   "source": [
    "import numpy as np\n",
    "np.std([178,177,176,177,178.2,178,175,179,180,175,178.9,176.2,177,172.5,178,176.5])"
   ]
  },
  {
   "cell_type": "markdown",
   "id": "fe9006e1-f6d9-40ce-88c0-30219578c3b5",
   "metadata": {},
   "source": [
    "Q5. How are measures of dispersion such as range, variance, and standard deviation used to describe \n",
    "the spread of a dataset? Provide an example."
   ]
  },
  {
   "cell_type": "markdown",
   "id": "026713f5-27e3-407f-bc24-f9fb929d7d77",
   "metadata": {},
   "source": [
    "1)range:range is the difference between the highest and lowest data points.\n",
    "let suppose the two data points be a and b the range is given by:|a-b|\n",
    "and the data varies by |a-b| points."
   ]
  },
  {
   "cell_type": "markdown",
   "id": "7fe20b3d-c64e-45ba-a200-71c50673e77d",
   "metadata": {},
   "source": [
    "2)variance: It gives an idea of how much the data points are spread out from the mean."
   ]
  },
  {
   "cell_type": "markdown",
   "id": "f1a1db3a-4f83-47a5-a0d4-300b31346b3a",
   "metadata": {},
   "source": [
    "3)standard deviation: provides a measure of dispersion in the same units as the original data."
   ]
  },
  {
   "cell_type": "markdown",
   "id": "9568a392-812b-4488-9ee5-3c60ae0d1503",
   "metadata": {},
   "source": [
    "Q6. What is a Venn diagram?"
   ]
  },
  {
   "cell_type": "markdown",
   "id": "b3a9640f-0a44-413f-931f-1ec9d07b2c6e",
   "metadata": {},
   "source": [
    "venn diagram is basically the diagramatic representation of the operations on sets.with the help of venn diagram we can easily visualise the operations"
   ]
  },
  {
   "cell_type": "markdown",
   "id": "4d609189-6c60-4be6-adad-bc2b93477a55",
   "metadata": {},
   "source": [
    "Q7. For the two given sets A = (2,3,4,5,6,7) & B = (0,2,6,8,10). Find:\n",
    "\n",
    "(i)AnB\n",
    "\n",
    "(ii)A ⋃ B"
   ]
  },
  {
   "cell_type": "markdown",
   "id": "e73a670a-9b7d-4bbf-98af-c1d88fc5339f",
   "metadata": {},
   "source": [
    "(i)AnB"
   ]
  },
  {
   "cell_type": "code",
   "execution_count": 6,
   "id": "801098d8-d791-41a6-b445-12a45b7bea46",
   "metadata": {},
   "outputs": [
    {
     "data": {
      "text/plain": [
       "{2, 6}"
      ]
     },
     "execution_count": 6,
     "metadata": {},
     "output_type": "execute_result"
    }
   ],
   "source": [
    "A = {2,3,4,5,6,7}\n",
    "B = {0,2,6,8,10}\n",
    "A.intersection(B)"
   ]
  },
  {
   "cell_type": "markdown",
   "id": "85bc5583-0d30-4f0b-8561-7ceb3ffb1032",
   "metadata": {},
   "source": [
    "(ii)A ⋃ B"
   ]
  },
  {
   "cell_type": "code",
   "execution_count": 7,
   "id": "e73d55af-736d-49d4-a589-fdaaa06500d5",
   "metadata": {},
   "outputs": [
    {
     "data": {
      "text/plain": [
       "{0, 2, 3, 4, 5, 6, 7, 8, 10}"
      ]
     },
     "execution_count": 7,
     "metadata": {},
     "output_type": "execute_result"
    }
   ],
   "source": [
    "A = {2,3,4,5,6,7}\n",
    "B = {0,2,6,8,10}\n",
    "A.union(B)"
   ]
  },
  {
   "cell_type": "markdown",
   "id": "cf5d34c2-0585-49e5-a6a0-2c4d9bd65717",
   "metadata": {},
   "source": [
    "Q8. What do you understand about skewness in data?"
   ]
  },
  {
   "cell_type": "markdown",
   "id": "1c87b8c1-aa63-4ead-aa8e-67424e4d706f",
   "metadata": {},
   "source": [
    "Skewness in data refers to the asymmetry of the probability distribution of a dataset.\n",
    "\n",
    "There are three main types of skewness:\n",
    "\n",
    "1)Positive Skewness (Right Skewness):he majority of the data points are concentrated on the left side of the distribution, The mean is typically greater than the median in a positively skewed distribution.\n",
    "\n",
    "2)Negative Skewness (Left Skewness):most of the data points are concentrated on the right side of the distribution.The mean is usually less than the median in a negatively skewed distribution.\n",
    "\n",
    "3)No Skewness (Symmetrical): In a symmetrical distribution, the data is evenly distributed around the mean.This means that the mean and median are approximately equal.(bell curve)\n"
   ]
  },
  {
   "cell_type": "markdown",
   "id": "49f92c5f-3dfe-4de1-9888-c57d312de249",
   "metadata": {},
   "source": [
    "Q9. If a data is right skewed then what will be the position of median with respect to mean?"
   ]
  },
  {
   "cell_type": "markdown",
   "id": "9126d913-6c07-49a3-97f8-c17487d98132",
   "metadata": {},
   "source": [
    "The mean is typically greater than the median in a positively skewed distribution."
   ]
  },
  {
   "cell_type": "markdown",
   "id": "cf72c4bb-2026-477a-bab0-939b04f9e328",
   "metadata": {},
   "source": [
    "Q10. Explain the difference between covariance and correlation. How are these measures used in \n",
    "statistical analysis?"
   ]
  },
  {
   "cell_type": "markdown",
   "id": "103ef9ad-e643-4f33-bb36-d95ff2125682",
   "metadata": {},
   "source": [
    "Covariance: It helps in understanding the relationship between two variables, but due to its scale and unit dependence, it's often more useful for EDA rather than comparisons across datasets.\n",
    "\n",
    "Correlation:\n",
    "Correlation is a standardized measure that not only indicates the direction of the relationship between two variables but also the strength of that relationship.\n",
    "\n",
    "In statistical analysis these are used for feature selection."
   ]
  },
  {
   "cell_type": "markdown",
   "id": "da42a8c6-59cf-49e6-918a-c24a8d4b71cc",
   "metadata": {},
   "source": [
    "Q11. What is the formula for calculating the sample mean? Provide an example calculation for a \n",
    "dataset."
   ]
  },
  {
   "cell_type": "markdown",
   "id": "c8f187fc-ee83-4770-8a96-78c69e67cf7e",
   "metadata": {},
   "source": [
    "x̄ = (Σx) / n\n",
    "\n",
    "Where:\n",
    "\n",
    "x̄ is the sample mean.\n",
    "Σx represents the sum of all individual data points in the sample.\n",
    "n is the number of data points in the sample."
   ]
  },
  {
   "cell_type": "code",
   "execution_count": 8,
   "id": "b4d2f3a9-cce5-4d98-b2c9-5ba1b8aa3183",
   "metadata": {},
   "outputs": [
    {
     "data": {
      "text/html": [
       "<div>\n",
       "<style scoped>\n",
       "    .dataframe tbody tr th:only-of-type {\n",
       "        vertical-align: middle;\n",
       "    }\n",
       "\n",
       "    .dataframe tbody tr th {\n",
       "        vertical-align: top;\n",
       "    }\n",
       "\n",
       "    .dataframe thead th {\n",
       "        text-align: right;\n",
       "    }\n",
       "</style>\n",
       "<table border=\"1\" class=\"dataframe\">\n",
       "  <thead>\n",
       "    <tr style=\"text-align: right;\">\n",
       "      <th></th>\n",
       "      <th>survived</th>\n",
       "      <th>pclass</th>\n",
       "      <th>sex</th>\n",
       "      <th>age</th>\n",
       "      <th>sibsp</th>\n",
       "      <th>parch</th>\n",
       "      <th>fare</th>\n",
       "      <th>embarked</th>\n",
       "      <th>class</th>\n",
       "      <th>who</th>\n",
       "      <th>adult_male</th>\n",
       "      <th>deck</th>\n",
       "      <th>embark_town</th>\n",
       "      <th>alive</th>\n",
       "      <th>alone</th>\n",
       "    </tr>\n",
       "  </thead>\n",
       "  <tbody>\n",
       "    <tr>\n",
       "      <th>0</th>\n",
       "      <td>0</td>\n",
       "      <td>3</td>\n",
       "      <td>male</td>\n",
       "      <td>22.0</td>\n",
       "      <td>1</td>\n",
       "      <td>0</td>\n",
       "      <td>7.2500</td>\n",
       "      <td>S</td>\n",
       "      <td>Third</td>\n",
       "      <td>man</td>\n",
       "      <td>True</td>\n",
       "      <td>NaN</td>\n",
       "      <td>Southampton</td>\n",
       "      <td>no</td>\n",
       "      <td>False</td>\n",
       "    </tr>\n",
       "    <tr>\n",
       "      <th>1</th>\n",
       "      <td>1</td>\n",
       "      <td>1</td>\n",
       "      <td>female</td>\n",
       "      <td>38.0</td>\n",
       "      <td>1</td>\n",
       "      <td>0</td>\n",
       "      <td>71.2833</td>\n",
       "      <td>C</td>\n",
       "      <td>First</td>\n",
       "      <td>woman</td>\n",
       "      <td>False</td>\n",
       "      <td>C</td>\n",
       "      <td>Cherbourg</td>\n",
       "      <td>yes</td>\n",
       "      <td>False</td>\n",
       "    </tr>\n",
       "    <tr>\n",
       "      <th>2</th>\n",
       "      <td>1</td>\n",
       "      <td>3</td>\n",
       "      <td>female</td>\n",
       "      <td>26.0</td>\n",
       "      <td>0</td>\n",
       "      <td>0</td>\n",
       "      <td>7.9250</td>\n",
       "      <td>S</td>\n",
       "      <td>Third</td>\n",
       "      <td>woman</td>\n",
       "      <td>False</td>\n",
       "      <td>NaN</td>\n",
       "      <td>Southampton</td>\n",
       "      <td>yes</td>\n",
       "      <td>True</td>\n",
       "    </tr>\n",
       "    <tr>\n",
       "      <th>3</th>\n",
       "      <td>1</td>\n",
       "      <td>1</td>\n",
       "      <td>female</td>\n",
       "      <td>35.0</td>\n",
       "      <td>1</td>\n",
       "      <td>0</td>\n",
       "      <td>53.1000</td>\n",
       "      <td>S</td>\n",
       "      <td>First</td>\n",
       "      <td>woman</td>\n",
       "      <td>False</td>\n",
       "      <td>C</td>\n",
       "      <td>Southampton</td>\n",
       "      <td>yes</td>\n",
       "      <td>False</td>\n",
       "    </tr>\n",
       "    <tr>\n",
       "      <th>4</th>\n",
       "      <td>0</td>\n",
       "      <td>3</td>\n",
       "      <td>male</td>\n",
       "      <td>35.0</td>\n",
       "      <td>0</td>\n",
       "      <td>0</td>\n",
       "      <td>8.0500</td>\n",
       "      <td>S</td>\n",
       "      <td>Third</td>\n",
       "      <td>man</td>\n",
       "      <td>True</td>\n",
       "      <td>NaN</td>\n",
       "      <td>Southampton</td>\n",
       "      <td>no</td>\n",
       "      <td>True</td>\n",
       "    </tr>\n",
       "    <tr>\n",
       "      <th>...</th>\n",
       "      <td>...</td>\n",
       "      <td>...</td>\n",
       "      <td>...</td>\n",
       "      <td>...</td>\n",
       "      <td>...</td>\n",
       "      <td>...</td>\n",
       "      <td>...</td>\n",
       "      <td>...</td>\n",
       "      <td>...</td>\n",
       "      <td>...</td>\n",
       "      <td>...</td>\n",
       "      <td>...</td>\n",
       "      <td>...</td>\n",
       "      <td>...</td>\n",
       "      <td>...</td>\n",
       "    </tr>\n",
       "    <tr>\n",
       "      <th>886</th>\n",
       "      <td>0</td>\n",
       "      <td>2</td>\n",
       "      <td>male</td>\n",
       "      <td>27.0</td>\n",
       "      <td>0</td>\n",
       "      <td>0</td>\n",
       "      <td>13.0000</td>\n",
       "      <td>S</td>\n",
       "      <td>Second</td>\n",
       "      <td>man</td>\n",
       "      <td>True</td>\n",
       "      <td>NaN</td>\n",
       "      <td>Southampton</td>\n",
       "      <td>no</td>\n",
       "      <td>True</td>\n",
       "    </tr>\n",
       "    <tr>\n",
       "      <th>887</th>\n",
       "      <td>1</td>\n",
       "      <td>1</td>\n",
       "      <td>female</td>\n",
       "      <td>19.0</td>\n",
       "      <td>0</td>\n",
       "      <td>0</td>\n",
       "      <td>30.0000</td>\n",
       "      <td>S</td>\n",
       "      <td>First</td>\n",
       "      <td>woman</td>\n",
       "      <td>False</td>\n",
       "      <td>B</td>\n",
       "      <td>Southampton</td>\n",
       "      <td>yes</td>\n",
       "      <td>True</td>\n",
       "    </tr>\n",
       "    <tr>\n",
       "      <th>888</th>\n",
       "      <td>0</td>\n",
       "      <td>3</td>\n",
       "      <td>female</td>\n",
       "      <td>NaN</td>\n",
       "      <td>1</td>\n",
       "      <td>2</td>\n",
       "      <td>23.4500</td>\n",
       "      <td>S</td>\n",
       "      <td>Third</td>\n",
       "      <td>woman</td>\n",
       "      <td>False</td>\n",
       "      <td>NaN</td>\n",
       "      <td>Southampton</td>\n",
       "      <td>no</td>\n",
       "      <td>False</td>\n",
       "    </tr>\n",
       "    <tr>\n",
       "      <th>889</th>\n",
       "      <td>1</td>\n",
       "      <td>1</td>\n",
       "      <td>male</td>\n",
       "      <td>26.0</td>\n",
       "      <td>0</td>\n",
       "      <td>0</td>\n",
       "      <td>30.0000</td>\n",
       "      <td>C</td>\n",
       "      <td>First</td>\n",
       "      <td>man</td>\n",
       "      <td>True</td>\n",
       "      <td>C</td>\n",
       "      <td>Cherbourg</td>\n",
       "      <td>yes</td>\n",
       "      <td>True</td>\n",
       "    </tr>\n",
       "    <tr>\n",
       "      <th>890</th>\n",
       "      <td>0</td>\n",
       "      <td>3</td>\n",
       "      <td>male</td>\n",
       "      <td>32.0</td>\n",
       "      <td>0</td>\n",
       "      <td>0</td>\n",
       "      <td>7.7500</td>\n",
       "      <td>Q</td>\n",
       "      <td>Third</td>\n",
       "      <td>man</td>\n",
       "      <td>True</td>\n",
       "      <td>NaN</td>\n",
       "      <td>Queenstown</td>\n",
       "      <td>no</td>\n",
       "      <td>True</td>\n",
       "    </tr>\n",
       "  </tbody>\n",
       "</table>\n",
       "<p>891 rows × 15 columns</p>\n",
       "</div>"
      ],
      "text/plain": [
       "     survived  pclass     sex   age  sibsp  parch     fare embarked   class  \\\n",
       "0           0       3    male  22.0      1      0   7.2500        S   Third   \n",
       "1           1       1  female  38.0      1      0  71.2833        C   First   \n",
       "2           1       3  female  26.0      0      0   7.9250        S   Third   \n",
       "3           1       1  female  35.0      1      0  53.1000        S   First   \n",
       "4           0       3    male  35.0      0      0   8.0500        S   Third   \n",
       "..        ...     ...     ...   ...    ...    ...      ...      ...     ...   \n",
       "886         0       2    male  27.0      0      0  13.0000        S  Second   \n",
       "887         1       1  female  19.0      0      0  30.0000        S   First   \n",
       "888         0       3  female   NaN      1      2  23.4500        S   Third   \n",
       "889         1       1    male  26.0      0      0  30.0000        C   First   \n",
       "890         0       3    male  32.0      0      0   7.7500        Q   Third   \n",
       "\n",
       "       who  adult_male deck  embark_town alive  alone  \n",
       "0      man        True  NaN  Southampton    no  False  \n",
       "1    woman       False    C    Cherbourg   yes  False  \n",
       "2    woman       False  NaN  Southampton   yes   True  \n",
       "3    woman       False    C  Southampton   yes  False  \n",
       "4      man        True  NaN  Southampton    no   True  \n",
       "..     ...         ...  ...          ...   ...    ...  \n",
       "886    man        True  NaN  Southampton    no   True  \n",
       "887  woman       False    B  Southampton   yes   True  \n",
       "888  woman       False  NaN  Southampton    no  False  \n",
       "889    man        True    C    Cherbourg   yes   True  \n",
       "890    man        True  NaN   Queenstown    no   True  \n",
       "\n",
       "[891 rows x 15 columns]"
      ]
     },
     "execution_count": 8,
     "metadata": {},
     "output_type": "execute_result"
    }
   ],
   "source": [
    "import seaborn as sns\n",
    "sns.load_dataset(\"titanic\")"
   ]
  },
  {
   "cell_type": "code",
   "execution_count": 9,
   "id": "e88ec84b-9f15-4e9a-9d50-d7cde065d9b2",
   "metadata": {},
   "outputs": [
    {
     "data": {
      "text/html": [
       "<div>\n",
       "<style scoped>\n",
       "    .dataframe tbody tr th:only-of-type {\n",
       "        vertical-align: middle;\n",
       "    }\n",
       "\n",
       "    .dataframe tbody tr th {\n",
       "        vertical-align: top;\n",
       "    }\n",
       "\n",
       "    .dataframe thead th {\n",
       "        text-align: right;\n",
       "    }\n",
       "</style>\n",
       "<table border=\"1\" class=\"dataframe\">\n",
       "  <thead>\n",
       "    <tr style=\"text-align: right;\">\n",
       "      <th></th>\n",
       "      <th>survived</th>\n",
       "      <th>pclass</th>\n",
       "      <th>age</th>\n",
       "      <th>sibsp</th>\n",
       "      <th>parch</th>\n",
       "      <th>fare</th>\n",
       "    </tr>\n",
       "  </thead>\n",
       "  <tbody>\n",
       "    <tr>\n",
       "      <th>count</th>\n",
       "      <td>891.000000</td>\n",
       "      <td>891.000000</td>\n",
       "      <td>714.000000</td>\n",
       "      <td>891.000000</td>\n",
       "      <td>891.000000</td>\n",
       "      <td>891.000000</td>\n",
       "    </tr>\n",
       "    <tr>\n",
       "      <th>mean</th>\n",
       "      <td>0.383838</td>\n",
       "      <td>2.308642</td>\n",
       "      <td>29.699118</td>\n",
       "      <td>0.523008</td>\n",
       "      <td>0.381594</td>\n",
       "      <td>32.204208</td>\n",
       "    </tr>\n",
       "    <tr>\n",
       "      <th>std</th>\n",
       "      <td>0.486592</td>\n",
       "      <td>0.836071</td>\n",
       "      <td>14.526497</td>\n",
       "      <td>1.102743</td>\n",
       "      <td>0.806057</td>\n",
       "      <td>49.693429</td>\n",
       "    </tr>\n",
       "    <tr>\n",
       "      <th>min</th>\n",
       "      <td>0.000000</td>\n",
       "      <td>1.000000</td>\n",
       "      <td>0.420000</td>\n",
       "      <td>0.000000</td>\n",
       "      <td>0.000000</td>\n",
       "      <td>0.000000</td>\n",
       "    </tr>\n",
       "    <tr>\n",
       "      <th>25%</th>\n",
       "      <td>0.000000</td>\n",
       "      <td>2.000000</td>\n",
       "      <td>20.125000</td>\n",
       "      <td>0.000000</td>\n",
       "      <td>0.000000</td>\n",
       "      <td>7.910400</td>\n",
       "    </tr>\n",
       "    <tr>\n",
       "      <th>50%</th>\n",
       "      <td>0.000000</td>\n",
       "      <td>3.000000</td>\n",
       "      <td>28.000000</td>\n",
       "      <td>0.000000</td>\n",
       "      <td>0.000000</td>\n",
       "      <td>14.454200</td>\n",
       "    </tr>\n",
       "    <tr>\n",
       "      <th>75%</th>\n",
       "      <td>1.000000</td>\n",
       "      <td>3.000000</td>\n",
       "      <td>38.000000</td>\n",
       "      <td>1.000000</td>\n",
       "      <td>0.000000</td>\n",
       "      <td>31.000000</td>\n",
       "    </tr>\n",
       "    <tr>\n",
       "      <th>max</th>\n",
       "      <td>1.000000</td>\n",
       "      <td>3.000000</td>\n",
       "      <td>80.000000</td>\n",
       "      <td>8.000000</td>\n",
       "      <td>6.000000</td>\n",
       "      <td>512.329200</td>\n",
       "    </tr>\n",
       "  </tbody>\n",
       "</table>\n",
       "</div>"
      ],
      "text/plain": [
       "         survived      pclass         age       sibsp       parch        fare\n",
       "count  891.000000  891.000000  714.000000  891.000000  891.000000  891.000000\n",
       "mean     0.383838    2.308642   29.699118    0.523008    0.381594   32.204208\n",
       "std      0.486592    0.836071   14.526497    1.102743    0.806057   49.693429\n",
       "min      0.000000    1.000000    0.420000    0.000000    0.000000    0.000000\n",
       "25%      0.000000    2.000000   20.125000    0.000000    0.000000    7.910400\n",
       "50%      0.000000    3.000000   28.000000    0.000000    0.000000   14.454200\n",
       "75%      1.000000    3.000000   38.000000    1.000000    0.000000   31.000000\n",
       "max      1.000000    3.000000   80.000000    8.000000    6.000000  512.329200"
      ]
     },
     "execution_count": 9,
     "metadata": {},
     "output_type": "execute_result"
    }
   ],
   "source": [
    "df=sns.load_dataset(\"titanic\")\n",
    "df.describe()"
   ]
  },
  {
   "cell_type": "markdown",
   "id": "d974fb90-c702-477c-8224-103d40a5a829",
   "metadata": {},
   "source": [
    "Q12. For a normal distribution data what is the relationship between its measure of central tendency?"
   ]
  },
  {
   "cell_type": "markdown",
   "id": "041247bf-6483-4df0-8b6d-fce3096450d6",
   "metadata": {},
   "source": [
    "mean=median=mode"
   ]
  },
  {
   "cell_type": "markdown",
   "id": "a47e32fe-0ebb-4dbf-bd8b-311b12a7af54",
   "metadata": {},
   "source": [
    "Q13. How is covariance different from correlation?"
   ]
  },
  {
   "cell_type": "markdown",
   "id": "7c0b3315-2b36-4155-8d16-24a488f0fb34",
   "metadata": {},
   "source": [
    "Covariance: It helps in understanding the relationship between two variables, but due to its scale and unit dependence, it's often more useful for EDA rather than comparisons across datasets.\n",
    "\n",
    "Correlation:\n",
    "Correlation is a standardized measure that not only indicates the direction of the relationship between two variables but also the strength of that relationship."
   ]
  },
  {
   "cell_type": "markdown",
   "id": "99804351-828c-4f7b-bf8f-10ab77cd0da5",
   "metadata": {},
   "source": [
    "Q14. How do outliers affect measures of central tendency and dispersion? Provide an example."
   ]
  },
  {
   "cell_type": "code",
   "execution_count": 12,
   "id": "0432d96a-393a-4ea5-9ef4-118d0ab57a98",
   "metadata": {},
   "outputs": [
    {
     "data": {
      "text/plain": [
       "50.875"
      ]
     },
     "execution_count": 12,
     "metadata": {},
     "output_type": "execute_result"
    }
   ],
   "source": [
    "l=[25,35,25,67,54,87,23,45,67,56,45,54,35,53,67,76]\n",
    "\n",
    "import numpy as  np\n",
    "np.mean(l)"
   ]
  },
  {
   "cell_type": "code",
   "execution_count": 14,
   "id": "069be0b1-9632-4f22-aaef-d2f68e7d53ee",
   "metadata": {},
   "outputs": [
    {
     "data": {
      "text/plain": [
       "53.5"
      ]
     },
     "execution_count": 14,
     "metadata": {},
     "output_type": "execute_result"
    }
   ],
   "source": [
    "np.median(l)"
   ]
  },
  {
   "cell_type": "code",
   "execution_count": 15,
   "id": "9cc35890-215c-4f4b-98a8-d546435ebaee",
   "metadata": {},
   "outputs": [
    {
     "name": "stderr",
     "output_type": "stream",
     "text": [
      "/tmp/ipykernel_77/3491401086.py:2: FutureWarning: Unlike other reduction functions (e.g. `skew`, `kurtosis`), the default behavior of `mode` typically preserves the axis it acts along. In SciPy 1.11.0, this behavior will change: the default value of `keepdims` will become False, the `axis` over which the statistic is taken will be eliminated, and the value None will no longer be accepted. Set `keepdims` to True or False to avoid this warning.\n",
      "  stats.mode(l)\n"
     ]
    },
    {
     "data": {
      "text/plain": [
       "ModeResult(mode=array([67]), count=array([3]))"
      ]
     },
     "execution_count": 15,
     "metadata": {},
     "output_type": "execute_result"
    }
   ],
   "source": [
    "from scipy import stats\n",
    "stats.mode(l)"
   ]
  },
  {
   "cell_type": "code",
   "execution_count": 16,
   "id": "48498d41-3de9-4189-8669-fcf7e733e3ec",
   "metadata": {},
   "outputs": [
    {
     "data": {
      "text/plain": [
       "340.984375"
      ]
     },
     "execution_count": 16,
     "metadata": {},
     "output_type": "execute_result"
    }
   ],
   "source": [
    "np.var(l)"
   ]
  },
  {
   "cell_type": "code",
   "execution_count": 17,
   "id": "200c7a1e-c27f-4c1a-8507-afb998e2f1d3",
   "metadata": {},
   "outputs": [
    {
     "data": {
      "text/plain": [
       "18.465762237178296"
      ]
     },
     "execution_count": 17,
     "metadata": {},
     "output_type": "execute_result"
    }
   ],
   "source": [
    "np.std(l)"
   ]
  },
  {
   "cell_type": "code",
   "execution_count": 19,
   "id": "6b2f2ad4-999f-4c50-a76e-f9c52c15d8ab",
   "metadata": {},
   "outputs": [],
   "source": [
    "l1=[25,35,25,67,54,87,23,45,67,56,45,54,35,53,67,76,500,200]"
   ]
  },
  {
   "cell_type": "code",
   "execution_count": 20,
   "id": "67377817-8d8a-4653-9e2f-d740d8c0be0b",
   "metadata": {},
   "outputs": [
    {
     "data": {
      "text/plain": [
       "84.11111111111111"
      ]
     },
     "execution_count": 20,
     "metadata": {},
     "output_type": "execute_result"
    }
   ],
   "source": [
    "np.mean(l1)"
   ]
  },
  {
   "cell_type": "code",
   "execution_count": 21,
   "id": "639ca485-91de-4aa9-a35e-c8563347ed0f",
   "metadata": {},
   "outputs": [
    {
     "data": {
      "text/plain": [
       "54.0"
      ]
     },
     "execution_count": 21,
     "metadata": {},
     "output_type": "execute_result"
    }
   ],
   "source": [
    "np.median(l1)"
   ]
  },
  {
   "cell_type": "code",
   "execution_count": 22,
   "id": "e0d87b74-7d74-4cc9-a59d-31eaf26d0acc",
   "metadata": {},
   "outputs": [
    {
     "name": "stderr",
     "output_type": "stream",
     "text": [
      "/tmp/ipykernel_77/3682151368.py:2: FutureWarning: Unlike other reduction functions (e.g. `skew`, `kurtosis`), the default behavior of `mode` typically preserves the axis it acts along. In SciPy 1.11.0, this behavior will change: the default value of `keepdims` will become False, the `axis` over which the statistic is taken will be eliminated, and the value None will no longer be accepted. Set `keepdims` to True or False to avoid this warning.\n",
      "  stats.mode(l1)\n"
     ]
    },
    {
     "data": {
      "text/plain": [
       "ModeResult(mode=array([67]), count=array([3]))"
      ]
     },
     "execution_count": 22,
     "metadata": {},
     "output_type": "execute_result"
    }
   ],
   "source": [
    "from scipy import stats\n",
    "stats.mode(l1)"
   ]
  },
  {
   "cell_type": "code",
   "execution_count": 23,
   "id": "68db8293-6d75-4a1e-85de-5c6fdb85e9a3",
   "metadata": {},
   "outputs": [
    {
     "data": {
      "text/plain": [
       "11640.20987654321"
      ]
     },
     "execution_count": 23,
     "metadata": {},
     "output_type": "execute_result"
    }
   ],
   "source": [
    "np.var(l1)"
   ]
  },
  {
   "cell_type": "code",
   "execution_count": 24,
   "id": "7e242fe6-aed8-4342-9663-fddfc2f8a731",
   "metadata": {},
   "outputs": [
    {
     "data": {
      "text/plain": [
       "107.88980432155398"
      ]
     },
     "execution_count": 24,
     "metadata": {},
     "output_type": "execute_result"
    }
   ],
   "source": [
    "np.std(l1)"
   ]
  },
  {
   "cell_type": "markdown",
   "id": "7deb8521-90a1-46c5-9f3e-624902e099b5",
   "metadata": {},
   "source": [
    "from the above example we got to know that mean,variance and standard  deviation are highly affected by outliers."
   ]
  },
  {
   "cell_type": "code",
   "execution_count": null,
   "id": "7348a7df-ba9c-4aa0-af12-d1e41d1ce601",
   "metadata": {},
   "outputs": [],
   "source": []
  }
 ],
 "metadata": {
  "kernelspec": {
   "display_name": "Python 3 (ipykernel)",
   "language": "python",
   "name": "python3"
  },
  "language_info": {
   "codemirror_mode": {
    "name": "ipython",
    "version": 3
   },
   "file_extension": ".py",
   "mimetype": "text/x-python",
   "name": "python",
   "nbconvert_exporter": "python",
   "pygments_lexer": "ipython3",
   "version": "3.10.8"
  }
 },
 "nbformat": 4,
 "nbformat_minor": 5
}
