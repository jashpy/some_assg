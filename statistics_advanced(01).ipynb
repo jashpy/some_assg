{
 "cells": [
  {
   "cell_type": "markdown",
   "id": "88cade3e-8e49-48da-bd61-bb5031980f15",
   "metadata": {},
   "source": [
    "Q1. What is the Probability density function?"
   ]
  },
  {
   "cell_type": "markdown",
   "id": "3e1c418d-a890-4e6b-98af-a8a336773376",
   "metadata": {},
   "source": [
    "A probability density function (PDF) defines the probability distribution of a continuous random variable.\n",
    "The PDF is denoted by a function, often represented as f(x), where \"x\" is the random variable. "
   ]
  },
  {
   "cell_type": "markdown",
   "id": "bfb3f87e-49bc-41a8-abe8-3fcab753eff7",
   "metadata": {},
   "source": [
    "Q2. What are the types of Probability distribution? \n"
   ]
  },
  {
   "cell_type": "markdown",
   "id": "002ec066-8bf3-48b2-90ab-6a3c59edb448",
   "metadata": {},
   "source": [
    "Continuous Distributions:\n",
    "\n",
    "Normal Distribution (Gaussian Distribution),Uniform Distribution,Log-Normal Distribution\n",
    "\n",
    "Discrete Distributions:\n",
    "\n",
    "Bernoulli Distribution,Binomial Distribution,Poisson Distribution\n",
    "\n",
    "only some of the examples are listed above\n",
    "    "
   ]
  },
  {
   "cell_type": "markdown",
   "id": "7b043418-93e4-40b5-a4d2-7bece7214202",
   "metadata": {},
   "source": [
    "Q3. Write a Python function to calculate the probability density function of a normal distribution with  given mean and standard deviation at a given point. "
   ]
  },
  {
   "cell_type": "code",
   "execution_count": 5,
   "id": "0f3f2616-de3d-454d-85f3-792d008c80c7",
   "metadata": {},
   "outputs": [
    {
     "name": "stdout",
     "output_type": "stream",
     "text": [
      "PDF at x=2: 0.053991\n"
     ]
    }
   ],
   "source": [
    "import math\n",
    "\n",
    "def gauss_dist(x,u,std):\n",
    "\n",
    "    if std <= 0:\n",
    "        raise ValueError(\"Standard deviation  must be greater than zero.\")\n",
    "    \n",
    "    coefficeint = 1 / (math.sqrt(2 * math.pi) * std)\n",
    "    expo= -((x - mean) ** 2) / (2 * (std_dev ** 2))\n",
    "    pdf =  coefficeint * math.exp(expo)\n",
    "    \n",
    "    return pdf\n",
    "\n",
    "\n",
    "mean = 0\n",
    "std_dev = 1\n",
    "x_value = 2\n",
    "pdf_value = gauss_dist(x_value, mean, std_dev)\n",
    "print(f\"PDF at x={x_value}: {pdf_value:.6f}\")"
   ]
  },
  {
   "cell_type": "markdown",
   "id": "a0fe8379-425a-4cbf-810a-dec3d774046c",
   "metadata": {},
   "source": [
    "Q4. What are the properties of Binomial distribution? Give two examples of events where binomial  distribution can be applied. "
   ]
  },
  {
   "cell_type": "markdown",
   "id": "e48952d1-87eb-49c5-b4d3-f75a7facaa21",
   "metadata": {},
   "source": [
    "1)Two Possible Outcomes\n",
    "\n",
    "2)number of trials are fixed(n)\n",
    "\n",
    "3)trials are independent\n",
    "\n",
    "4)Constant Probability of Success (p)\n",
    "\n",
    "examples of some events:\n",
    "\n",
    "1)coin toss\n",
    "\n",
    "2)to decide defective one or non defective"
   ]
  },
  {
   "cell_type": "markdown",
   "id": "eccd21ad-f305-498b-aac0-5f18a5c3e7c3",
   "metadata": {},
   "source": [
    "Q5. Generate a random sample of size 1000 from a binomial distribution with probability of success 0.4  and plot a histogram of the results using matplotlib. \n"
   ]
  },
  {
   "cell_type": "code",
   "execution_count": 7,
   "id": "3acef6a7-4336-4e49-ae34-2ff4e68f780d",
   "metadata": {},
   "outputs": [
    {
     "data": {
      "image/png": "[encoded data removed]",
      "text/plain": [
       "<Figure size 1000x800 with 1 Axes>"
      ]
     },
     "metadata": {},
     "output_type": "display_data"
    }
   ],
   "source": [
    "import numpy as np\n",
    "import matplotlib.pyplot as plt\n",
    "n = 1000  \n",
    "p = 0.4   \n",
    "random_sample = np.random.binomial(n, p, size=1000)\n",
    "plt.figure(figsize=(10, 8))\n",
    "plt.hist(random_sample, bins=range(0, n + 2), alpha=0.7, color='green', edgecolor='blue', density=True)\n",
    "plt.title('Histogram')\n",
    "plt.xlabel('Number of Successes')\n",
    "plt.ylabel('Probability')\n",
    "plt.grid(True)\n",
    "plt.show()"
   ]
  },
  {
   "cell_type": "markdown",
   "id": "84a56c59-7add-4724-9008-cf41acbea46e",
   "metadata": {},
   "source": [
    "Q6. Write a Python function to calculate the cumulative distribution function of a Poisson distribution  with given mean at a given point."
   ]
  },
  {
   "cell_type": "code",
   "execution_count": 9,
   "id": "c4cb57ef-a787-4135-a3a8-4d00b53fadc2",
   "metadata": {},
   "outputs": [
    {
     "name": "stdout",
     "output_type": "stream",
     "text": [
      "CDF at k=2: 0.919699\n"
     ]
    }
   ],
   "source": [
    "import math\n",
    "\n",
    "def pois(lam, mean):\n",
    "    \n",
    "    if lam < 0 or mean <= 0:\n",
    "        raise ValueError(\"lam must be a non-negative integer, and mean must be positive.\")\n",
    "    \n",
    "    cdf = 0.0\n",
    "    for i in range(lam + 1):\n",
    "        cdf += (math.exp(-mean) * (mean ** i)) / math.factorial(i)\n",
    "    \n",
    "    return cdf\n",
    "\n",
    "\n",
    "mean = 1\n",
    "lambda_value = 2\n",
    "cdf_value = pois(lambda_value, mean)\n",
    "print(f\"CDF at k={lambda_value}: {cdf_value:.6f}\")"
   ]
  },
  {
   "cell_type": "markdown",
   "id": "95c5addd-b9f8-419e-b864-6020d630715a",
   "metadata": {},
   "source": [
    "Q7. How Binomial distribution different from Poisson distribution? \n"
   ]
  },
  {
   "cell_type": "markdown",
   "id": "e0f12939-ed40-4e10-9bd5-569fb4a6ff66",
   "metadata": {},
   "source": [
    "1)different usecases depending upon the problem statement\n",
    "\n",
    "2)distribution formula is also different\n",
    "\n",
    "3)different nature\n",
    "\n",
    "4)in both the cases sense of number of trials differs"
   ]
  },
  {
   "cell_type": "markdown",
   "id": "f17a73ce-140e-4e84-aba1-3c85cc0f1647",
   "metadata": {},
   "source": [
    "Q8. Generate a random sample of size 1000 from a Poisson distribution with mean 5 and calculate the  sample mean and variance. "
   ]
  },
  {
   "cell_type": "code",
   "execution_count": 10,
   "id": "ff7a7a22-48b4-4a4d-ac9e-b293a909531b",
   "metadata": {},
   "outputs": [
    {
     "name": "stdout",
     "output_type": "stream",
     "text": [
      "Sample Mean: 4.868000\n",
      "Sample Variance: 5.053630\n"
     ]
    }
   ],
   "source": [
    "import numpy as np\n",
    "mean = 5 \n",
    "sample_size = 1000 \n",
    "\n",
    "\n",
    "random_sample = np.random.poisson(mean, size=sample_size)\n",
    "\n",
    "\n",
    "sample_mean = np.mean(random_sample)\n",
    "sample_variance = np.var(random_sample, ddof=1) \n",
    "\n",
    "# Print the results\n",
    "print(f\"Sample Mean: {sample_mean:.6f}\")\n",
    "print(f\"Sample Variance: {sample_variance:.6f}\")"
   ]
  },
  {
   "cell_type": "markdown",
   "id": "3823346a-dbe4-4ed9-b1ed-e351283ac431",
   "metadata": {},
   "source": [
    "Q9. How mean and variance are related in Binomial distribution and Poisson distribution?"
   ]
  },
  {
   "cell_type": "markdown",
   "id": "32c96205-4029-435f-a8a7-77c0a589b569",
   "metadata": {},
   "source": [
    "BINOMIAL DISTRIBUTION:\n",
    "μ=np\n",
    "Variance (σ²) of the Binomial distribution is given by: \n",
    " =np(1−p)\n",
    "\n",
    "poisson dist:\n",
    "\n",
    "\n",
    "μ=λ\n",
    "\n",
    "Variance (σ²) of the Poisson distribution is also given by: \n",
    "=λ\n",
    "\n",
    "relationship between mean and variance in the Binomial and Poisson distributions is a simplification that follows the distributions are ideal and follow the exact mathematical formulas"
   ]
  },
  {
   "cell_type": "markdown",
   "id": "f28d7015-8ca2-48e8-9d80-1e18e2ebdbb1",
   "metadata": {},
   "source": [
    "Q10. In normal distribution with respect to mean position, where does the least frequent data appear? \n"
   ]
  },
  {
   "cell_type": "markdown",
   "id": "c23e6fd9-64f5-4478-87ec-572d413a4e0b",
   "metadata": {},
   "source": [
    "As we move away from the mean in both directions (left and right), the frequency of data points decreases.The least frequent data points are found in the tails of the distribution, which are the regions that are farthest from the mean. These extreme values are rare in a normal distribution(considered as outliers).\n",
    "we can fix them by taking 3 standard deviation method in feature engineering."
   ]
  },
  {
   "cell_type": "code",
   "execution_count": null,
   "id": "76b12888-63c5-4c95-b044-856cf00f740e",
   "metadata": {},
   "outputs": [],
   "source": []
  }
 ],
 "metadata": {
  "kernelspec": {
   "display_name": "Python 3 (ipykernel)",
   "language": "python",
   "name": "python3"
  },
  "language_info": {
   "codemirror_mode": {
    "name": "ipython",
    "version": 3
   },
   "file_extension": ".py",
   "mimetype": "text/x-python",
   "name": "python",
   "nbconvert_exporter": "python",
   "pygments_lexer": "ipython3",
   "version": "3.10.8"
  }
 },
 "nbformat": 4,
 "nbformat_minor": 5
}
