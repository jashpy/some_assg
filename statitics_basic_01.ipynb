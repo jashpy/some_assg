{
 "cells": [
  {
   "cell_type": "markdown",
   "id": "5b134c14-c8fd-47ba-9c14-65cfc44c668e",
   "metadata": {},
   "source": [
    "Q1. What is Statistics?"
   ]
  },
  {
   "cell_type": "markdown",
   "id": "6d644582-76b5-41fb-8479-8b379e3cbc9b",
   "metadata": {},
   "source": [
    "statistics is basically the process or the branch of mathematics of collecting,organising and analysing data and data means the pieces of information."
   ]
  },
  {
   "cell_type": "markdown",
   "id": "bf33087b-5e30-48d4-bdd4-06277548632e",
   "metadata": {},
   "source": [
    "Q2. Define the different types of statistics and give an example of when each type might be used."
   ]
  },
  {
   "cell_type": "markdown",
   "id": "054b08b6-b7fc-4011-a2bf-cb861c71fec6",
   "metadata": {},
   "source": [
    "types:\n",
    "\n",
    "1)descriptive statistics:type of statistics which deals with organising and summarizing data.\n",
    "\n",
    "ex-finding the mean weight of student in a classroom\n",
    "\n",
    "2)inferential statistics:type of statistics which deals to make conclusions.\n",
    "\n",
    "ex-finding out the obese one."
   ]
  },
  {
   "cell_type": "markdown",
   "id": "cb0c4efa-6fee-4f19-a764-50744976deea",
   "metadata": {},
   "source": [
    "Q3. What are the different types of data and how do they differ from each other? Provide an example of\n",
    "each type of data."
   ]
  },
  {
   "cell_type": "markdown",
   "id": "a538c04c-94f6-4fb4-8d7a-36638cfc8e65",
   "metadata": {},
   "source": [
    "1)Quantitative data-which deals with the numerical values,ex-age,weight.Further categorized into discrete and continuous.\n",
    "\n",
    "discrete-complete values(ex-age,no. of bank accounts)\n",
    "\n",
    "continuous-can be in decimal also.(ex-speed)\n",
    "\n",
    "2)qualitative-which deals with the categorical values.ex-gender,quality\n",
    "\n",
    "nominal-no rankings(ex-gender,blood groups)\n",
    "\n",
    "ordinal-basis of ranks(ex-customer feedback)"
   ]
  },
  {
   "cell_type": "markdown",
   "id": "361be9f6-b46c-4983-81ae-9fce3cb97d25",
   "metadata": {},
   "source": [
    "Q4. Categorise the following datasets with respect to quantitative and qualitative data types:\n",
    "(i) Grading in exam: A+, A, B+, B, C+, C, D, E\n",
    "(ii) Colour of mangoes: yellow, green, orange, red\n",
    "(iii) Height data of a class: [178.9, 179, 179.5, 176, 177.2, 178.3, 175.8,...]\n",
    "(iv) Number of mangoes exported by a farm: [500, 600, 478, 672, ...]"
   ]
  },
  {
   "cell_type": "markdown",
   "id": "cf273cb9-7b08-4cb6-9fe9-785ee49f370d",
   "metadata": {},
   "source": [
    "(i)---->qualitative\n",
    "(ii)---->qualitative\n",
    "(iii)---->quantitative\n",
    "(iv)---->quantitative"
   ]
  },
  {
   "cell_type": "markdown",
   "id": "f5555cef-eac3-41ab-be92-f589d8faf69d",
   "metadata": {},
   "source": [
    "Q5. Explain the concept of levels of measurement and give an example of a variable for each level."
   ]
  },
  {
   "cell_type": "markdown",
   "id": "f13ba509-eb4e-4db0-981c-86576ec12f8e",
   "metadata": {},
   "source": [
    "Levels of measurement refers to the different ways in which data can be categorized and measured. These levels helps to analyze and interpret the data accurately. There are four main levels of measurement: nominal, ordinal, interval, and ratio.\n",
    "\n",
    "1)Nominal label: Gender (Male, Female, Non-binary)\n",
    "\n",
    "2)ordinal label:Education Levels (High School Diploma, Bachelor's Degree, Master's Degree, Doctorate)\n",
    "\n",
    "3)Interval Level:Temperature in Celsius or Fahrenheit\n",
    "\n",
    "4)Ratio Level:height"
   ]
  },
  {
   "cell_type": "markdown",
   "id": "832b0a6d-aff7-4a3b-b806-3ac7158c1e33",
   "metadata": {},
   "source": [
    "Q6. Why is it important to understand the level of measurement when analyzing data? Provide an\n",
    "example to illustrate your answer.\n",
    "\n",
    "solution-assignments  Scores (Ratio):\n",
    "When comparing the assignment scores of different groups, such as students taught with different teaching methods, researchers can use techniques like t-tests, ANOVA, or regression analysis. These methods are appropriate for ratio-level data as they involve comparing means and analyzing the variance in data."
   ]
  },
  {
   "cell_type": "markdown",
   "id": "c18e1c6d-2b69-4166-99b8-ff1257056da1",
   "metadata": {},
   "source": [
    "Q7. How nominal data type is different from ordinal data type.\n",
    "\n",
    "nominal-no rankings(ex-gender,blood groups)\n",
    "\n",
    "ordinal-basis of ranks(ex-customer feedback)"
   ]
  },
  {
   "cell_type": "markdown",
   "id": "7a783c8e-3946-4a4c-9269-260009832320",
   "metadata": {},
   "source": [
    "Q8. Which type of plot can be used to display data in terms of range?\n",
    "\n",
    "ans-Box plot is used to display data in terms of range and it shows the 25,50,75 percentile of the data.\n",
    "It is most essential for detecting the outliers."
   ]
  },
  {
   "cell_type": "markdown",
   "id": "c22f190a-fab6-4bb5-aa23-d1bb3846c2a4",
   "metadata": {},
   "source": [
    "Q9. Describe the difference between descriptive and inferential statistics. Give an example of each\n",
    "type of statistics and explain how they are used."
   ]
  },
  {
   "cell_type": "markdown",
   "id": "59c8685c-ae18-4056-add4-368d2ab3aa67",
   "metadata": {},
   "source": [
    "ans-1)descriptive statistics:type of statistics which deals with organising and summarizing data.\n",
    "\n",
    "ex-finding the mean weight of student in a classroom\n",
    "\n",
    "2)inferential statistics:type of statistics which deals to make conclusions.\n",
    "\n",
    "ex-finding out the obese one.\n"
   ]
  },
  {
   "cell_type": "markdown",
   "id": "18b4785f-54f9-435c-97d8-3dc7c36c76fd",
   "metadata": {},
   "source": [
    "Q10. What are some common measures of central tendency and variability used in statistics? Explain\n",
    "how each measure can be used to describe a dataset."
   ]
  },
  {
   "cell_type": "markdown",
   "id": "caeccb60-deed-4e39-8f05-0b213786680e",
   "metadata": {},
   "source": [
    "measures of central tendency:\n",
    "\n",
    "1)Mean: The mean is the sum of all data points divided by the number of data points. It represents the average value of the dataset\n",
    "\n",
    "2)Median: The median is the middle value of a dataset when it's arranged in ascending or descending order.Better representation of central tendency when data is skewed.\n",
    "\n",
    "3)Mode: The mode is the value that appears most frequently in the dataset\n",
    "\n",
    "measures of variability:\n",
    "\n",
    "1)Range: The range is the difference between the maximum and minimum values in a dataset. It provides a simple measure of divergence of data.\n",
    "\n",
    "2)Variance: Variance measures the average squared deviation of each data point from the mean. A higher variance indicates greater variability in the dataset.\n",
    "\n",
    "3)Standard Deviation: The standard deviation is the square root of the variance. It measures the average deviation from the mean. A smaller standard deviation indicates less variability.\n",
    "\n",
    "4)Interquartile Range (IQR): The IQR is the range between the first quartile (25th percentile) and the third quartile (75th percentile).used for the detection of outliers."
   ]
  },
  {
   "cell_type": "code",
   "execution_count": null,
   "id": "8b99ecac-05a7-49f1-a6bf-9e0ee5576b1a",
   "metadata": {},
   "outputs": [],
   "source": []
  }
 ],
 "metadata": {
  "kernelspec": {
   "display_name": "Python 3 (ipykernel)",
   "language": "python",
   "name": "python3"
  },
  "language_info": {
   "codemirror_mode": {
    "name": "ipython",
    "version": 3
   },
   "file_extension": ".py",
   "mimetype": "text/x-python",
   "name": "python",
   "nbconvert_exporter": "python",
   "pygments_lexer": "ipython3",
   "version": "3.10.8"
  }
 },
 "nbformat": 4,
 "nbformat_minor": 5
}
